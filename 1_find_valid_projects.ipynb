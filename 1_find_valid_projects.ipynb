{
 "cells": [
  {
   "cell_type": "code",
   "execution_count": 1,
   "id": "18c497cb",
   "metadata": {},
   "outputs": [],
   "source": [
    "# Imports\n",
    "import os"
   ]
  },
  {
   "cell_type": "code",
   "execution_count": 4,
   "id": "c74fc74d",
   "metadata": {},
   "outputs": [
    {
     "name": "stdout",
     "output_type": "stream",
     "text": [
      "335 folders\n"
     ]
    }
   ],
   "source": [
    "pages_project = \"pages\"\n",
    "\n",
    "pages_folder = os.listdir(pages_project)\n",
    "\n",
    "pages_pdfs = dict()\n",
    "\n",
    "for page_folder in pages_folder:\n",
    "    if os.path.isdir(os.path.join(pages_project, page_folder)):\n",
    "        pdfs = os.listdir(os.path.join(pages_project, page_folder))\n",
    "        pdfs = [pdf for pdf in pdfs if pdf.endswith(\".pdf\")]\n",
    "        pages_pdfs[page_folder] = pdfs\n",
    "\n",
    "print(len(pages_pdfs), \"folders\")\n",
    "\n"
   ]
  },
  {
   "cell_type": "code",
   "execution_count": 7,
   "id": "90c35a6e",
   "metadata": {},
   "outputs": [
    {
     "name": "stdout",
     "output_type": "stream",
     "text": [
      "Empty folders: 100\n"
     ]
    }
   ],
   "source": [
    "#Count empty folders\n",
    "empty_folders = 0\n",
    "for page_folder in pages_pdfs:\n",
    "    if len(pages_pdfs[page_folder]) == 0:\n",
    "        empty_folders += 1\n",
    "print(f\"Empty folders: {empty_folders}\")"
   ]
  },
  {
   "cell_type": "code",
   "execution_count": 8,
   "id": "8e0f1ae4",
   "metadata": {},
   "outputs": [
    {
     "name": "stdout",
     "output_type": "stream",
     "text": [
      "Duplicated files: 220\n"
     ]
    }
   ],
   "source": [
    "# Find name of files, which are duplicated in different folders\n",
    "duplicates = dict()\n",
    "for page_folder in pages_pdfs:\n",
    "    for pdf in pages_pdfs[page_folder]:\n",
    "        if pdf not in duplicates:\n",
    "            duplicates[pdf] = [page_folder]\n",
    "        else:\n",
    "            duplicates[pdf].append(page_folder)\n",
    "duplicates_list = [pdf for pdf in duplicates if len(duplicates[pdf]) > 1]\n",
    "print(f\"Duplicated files: {len(duplicates_list)}\")"
   ]
  },
  {
   "cell_type": "code",
   "execution_count": 9,
   "id": "b76f028a",
   "metadata": {},
   "outputs": [
    {
     "name": "stdout",
     "output_type": "stream",
     "text": [
      "Non-empty folders: 64\n"
     ]
    }
   ],
   "source": [
    "# Find non-empty folders (atleast one pdf which is not duplicated)\n",
    "non_empty_folders = dict()\n",
    "for page_folder in pages_pdfs:\n",
    "    if len(pages_pdfs[page_folder]) > 0:\n",
    "        has_unique_pdf = False\n",
    "        for pdf in pages_pdfs[page_folder]:\n",
    "            if pdf not in duplicates_list:\n",
    "                has_unique_pdf = True\n",
    "                break\n",
    "        #Add to non_empty_folders if it has unique pdf\n",
    "        if has_unique_pdf:\n",
    "            non_empty_folders[page_folder] = pages_pdfs[page_folder]\n",
    "\n",
    "print(f\"Non-empty folders: {len(non_empty_folders)}\")"
   ]
  },
  {
   "cell_type": "code",
   "execution_count": 11,
   "id": "9a396ffb",
   "metadata": {},
   "outputs": [],
   "source": [
    "# Save the non-empty folders to a valid_project.txt\n",
    "with open(\"valid_project.txt\", \"w\") as f:\n",
    "    for page_folder in non_empty_folders:\n",
    "        f.write(page_folder + \"\\n\")"
   ]
  },
  {
   "cell_type": "code",
   "execution_count": null,
   "id": "5fdfd50a",
   "metadata": {},
   "outputs": [],
   "source": []
  }
 ],
 "metadata": {
  "kernelspec": {
   "display_name": "base",
   "language": "python",
   "name": "python3"
  },
  "language_info": {
   "codemirror_mode": {
    "name": "ipython",
    "version": 3
   },
   "file_extension": ".py",
   "mimetype": "text/x-python",
   "name": "python",
   "nbconvert_exporter": "python",
   "pygments_lexer": "ipython3",
   "version": "3.12.7"
  }
 },
 "nbformat": 4,
 "nbformat_minor": 5
}
